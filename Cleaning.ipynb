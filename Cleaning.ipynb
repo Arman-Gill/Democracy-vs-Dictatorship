{
 "cells": [
  {
   "cell_type": "code",
   "execution_count": 2,
   "metadata": {
    "ExecuteTime": {
     "end_time": "2020-08-04T01:35:13.669462Z",
     "start_time": "2020-08-04T01:35:08.675455Z"
    }
   },
   "outputs": [],
   "source": [
    "import matplotlib.pyplot as plt\n",
    "import pandas as pd\n",
    "import numpy as np\n",
    "import seaborn as sns"
   ]
  },
  {
   "cell_type": "code",
   "execution_count": 3,
   "metadata": {
    "ExecuteTime": {
     "end_time": "2020-08-04T01:35:13.848911Z",
     "start_time": "2020-08-04T01:35:13.675086Z"
    }
   },
   "outputs": [],
   "source": [
    "data = pd.read_csv('../Cleaned_data/merged.csv')"
   ]
  },
  {
   "cell_type": "code",
   "execution_count": 4,
   "metadata": {
    "ExecuteTime": {
     "end_time": "2020-08-04T01:35:14.638693Z",
     "start_time": "2020-08-04T01:35:14.623695Z"
    }
   },
   "outputs": [
    {
     "data": {
      "text/html": [
       "<div>\n",
       "<style scoped>\n",
       "    .dataframe tbody tr th:only-of-type {\n",
       "        vertical-align: middle;\n",
       "    }\n",
       "\n",
       "    .dataframe tbody tr th {\n",
       "        vertical-align: top;\n",
       "    }\n",
       "\n",
       "    .dataframe thead th {\n",
       "        text-align: right;\n",
       "    }\n",
       "</style>\n",
       "<table border=\"1\" class=\"dataframe\">\n",
       "  <thead>\n",
       "    <tr style=\"text-align: right;\">\n",
       "      <th></th>\n",
       "      <th>Unnamed: 0</th>\n",
       "      <th>country_code</th>\n",
       "      <th>country_name</th>\n",
       "      <th>year</th>\n",
       "      <th>gdp_growth_rate</th>\n",
       "      <th>government_type</th>\n",
       "      <th>gdp_per_capita</th>\n",
       "    </tr>\n",
       "  </thead>\n",
       "  <tbody>\n",
       "    <tr>\n",
       "      <th>0</th>\n",
       "      <td>1</td>\n",
       "      <td>AFG</td>\n",
       "      <td>Afghanistan</td>\n",
       "      <td>1960</td>\n",
       "      <td>NaN</td>\n",
       "      <td>Dictatorship</td>\n",
       "      <td>NaN</td>\n",
       "    </tr>\n",
       "    <tr>\n",
       "      <th>1</th>\n",
       "      <td>3</td>\n",
       "      <td>ALB</td>\n",
       "      <td>Albania</td>\n",
       "      <td>1960</td>\n",
       "      <td>NaN</td>\n",
       "      <td>Dictatorship</td>\n",
       "      <td>NaN</td>\n",
       "    </tr>\n",
       "    <tr>\n",
       "      <th>2</th>\n",
       "      <td>7</td>\n",
       "      <td>ARG</td>\n",
       "      <td>Argentina</td>\n",
       "      <td>1960</td>\n",
       "      <td>NaN</td>\n",
       "      <td>Democracy</td>\n",
       "      <td>5642.765138</td>\n",
       "    </tr>\n",
       "    <tr>\n",
       "      <th>3</th>\n",
       "      <td>11</td>\n",
       "      <td>AUS</td>\n",
       "      <td>Australia</td>\n",
       "      <td>1960</td>\n",
       "      <td>NaN</td>\n",
       "      <td>Democracy</td>\n",
       "      <td>19378.370795</td>\n",
       "    </tr>\n",
       "    <tr>\n",
       "      <th>4</th>\n",
       "      <td>12</td>\n",
       "      <td>AUT</td>\n",
       "      <td>Austria</td>\n",
       "      <td>1960</td>\n",
       "      <td>NaN</td>\n",
       "      <td>Democracy</td>\n",
       "      <td>13031.031769</td>\n",
       "    </tr>\n",
       "  </tbody>\n",
       "</table>\n",
       "</div>"
      ],
      "text/plain": [
       "   Unnamed: 0 country_code country_name  year  gdp_growth_rate  \\\n",
       "0           1          AFG  Afghanistan  1960              NaN   \n",
       "1           3          ALB      Albania  1960              NaN   \n",
       "2           7          ARG    Argentina  1960              NaN   \n",
       "3          11          AUS    Australia  1960              NaN   \n",
       "4          12          AUT      Austria  1960              NaN   \n",
       "\n",
       "  government_type  gdp_per_capita  \n",
       "0    Dictatorship             NaN  \n",
       "1    Dictatorship             NaN  \n",
       "2       Democracy     5642.765138  \n",
       "3       Democracy    19378.370795  \n",
       "4       Democracy    13031.031769  "
      ]
     },
     "execution_count": 4,
     "metadata": {},
     "output_type": "execute_result"
    }
   ],
   "source": [
    "data.head()"
   ]
  },
  {
   "cell_type": "code",
   "execution_count": 5,
   "metadata": {
    "ExecuteTime": {
     "end_time": "2020-08-04T01:35:14.903290Z",
     "start_time": "2020-08-04T01:35:14.894313Z"
    }
   },
   "outputs": [],
   "source": [
    "data.drop('Unnamed: 0', axis=1, inplace=True)"
   ]
  },
  {
   "cell_type": "code",
   "execution_count": 5,
   "metadata": {
    "ExecuteTime": {
     "end_time": "2020-08-01T14:58:22.128572Z",
     "start_time": "2020-08-01T14:58:22.119856Z"
    }
   },
   "outputs": [
    {
     "data": {
      "text/plain": [
       "(9717, 6)"
      ]
     },
     "execution_count": 5,
     "metadata": {},
     "output_type": "execute_result"
    }
   ],
   "source": [
    "data.shape"
   ]
  },
  {
   "cell_type": "code",
   "execution_count": 6,
   "metadata": {
    "ExecuteTime": {
     "end_time": "2020-07-19T07:11:12.514312Z",
     "start_time": "2020-07-19T07:11:12.493130Z"
    }
   },
   "outputs": [
    {
     "name": "stdout",
     "output_type": "stream",
     "text": [
      "<class 'pandas.core.frame.DataFrame'>\n",
      "RangeIndex: 9717 entries, 0 to 9716\n",
      "Data columns (total 6 columns):\n",
      " #   Column           Non-Null Count  Dtype  \n",
      "---  ------           --------------  -----  \n",
      " 0   country_code     9717 non-null   object \n",
      " 1   country_name     9717 non-null   object \n",
      " 2   year             9717 non-null   int64  \n",
      " 3   gdp_growth_rate  8281 non-null   float64\n",
      " 4   government_type  9717 non-null   object \n",
      " 5   gdp_per_capita   8443 non-null   float64\n",
      "dtypes: float64(2), int64(1), object(3)\n",
      "memory usage: 455.6+ KB\n"
     ]
    }
   ],
   "source": [
    "data.info()"
   ]
  },
  {
   "cell_type": "code",
   "execution_count": 12,
   "metadata": {
    "ExecuteTime": {
     "end_time": "2020-08-04T01:36:16.326834Z",
     "start_time": "2020-08-04T01:36:16.321848Z"
    }
   },
   "outputs": [],
   "source": [
    "def check_na_percentage(df, col_name):\n",
    "    '''\n",
    "    Prints the percentage of missing values in each year for the given column\n",
    "    \n",
    "    df : dataframe containing the column\n",
    "    col_name : name of the column with missing values \n",
    "    \n",
    "    returns : None\n",
    "    \n",
    "    '''\n",
    "    grouped = df.groupby(by='year')\n",
    "    for group, data in grouped:\n",
    "        total = data[col_name].isna().sum()\n",
    "        per = (total/len(data[col_name])) * 100\n",
    "        print(group, ' : ', per)"
   ]
  },
  {
   "cell_type": "code",
   "execution_count": 13,
   "metadata": {
    "ExecuteTime": {
     "end_time": "2020-08-04T01:36:17.223466Z",
     "start_time": "2020-08-04T01:36:17.171610Z"
    }
   },
   "outputs": [
    {
     "name": "stdout",
     "output_type": "stream",
     "text": [
      "1960  :  100.0\n",
      "1961  :  32.38095238095238\n",
      "1962  :  32.142857142857146\n",
      "1963  :  31.858407079646017\n",
      "1964  :  31.896551724137932\n",
      "1965  :  32.5\n",
      "1966  :  30.64516129032258\n",
      "1967  :  28.225806451612907\n",
      "1968  :  29.6875\n",
      "1969  :  28.125\n",
      "1970  :  28.24427480916031\n",
      "1971  :  23.703703703703706\n",
      "1972  :  23.703703703703706\n",
      "1973  :  23.52941176470588\n",
      "1974  :  23.91304347826087\n",
      "1975  :  25.517241379310345\n",
      "1976  :  23.809523809523807\n",
      "1977  :  23.64864864864865\n",
      "1978  :  23.841059602649008\n",
      "1979  :  23.376623376623375\n",
      "1980  :  23.225806451612904\n",
      "1981  :  17.197452229299362\n",
      "1982  :  15.286624203821656\n",
      "1983  :  13.924050632911392\n",
      "1984  :  13.836477987421384\n",
      "1985  :  12.578616352201259\n",
      "1986  :  12.578616352201259\n",
      "1987  :  11.949685534591195\n",
      "1988  :  11.949685534591195\n",
      "1989  :  10.69182389937107\n",
      "1990  :  9.937888198757763\n",
      "1991  :  10.555555555555555\n",
      "1992  :  10.497237569060774\n",
      "1993  :  9.782608695652174\n",
      "1994  :  9.18918918918919\n",
      "1995  :  8.108108108108109\n",
      "1996  :  5.9459459459459465\n",
      "1997  :  5.9459459459459465\n",
      "1998  :  5.405405405405405\n",
      "1999  :  5.405405405405405\n",
      "2000  :  4.864864864864865\n",
      "2001  :  3.2432432432432434\n",
      "2002  :  2.7027027027027026\n",
      "2003  :  2.1621621621621623\n",
      "2004  :  2.1621621621621623\n",
      "2005  :  2.1621621621621623\n",
      "2006  :  2.13903743315508\n",
      "2007  :  2.13903743315508\n",
      "2008  :  2.13903743315508\n",
      "2009  :  2.13903743315508\n",
      "2010  :  2.6737967914438503\n",
      "2011  :  2.6737967914438503\n",
      "2012  :  3.2085561497326207\n",
      "2013  :  3.2085561497326207\n",
      "2014  :  2.6737967914438503\n",
      "2015  :  3.2085561497326207\n",
      "2016  :  3.2085561497326207\n",
      "2017  :  3.2085561497326207\n",
      "2018  :  4.27807486631016\n",
      "2019  :  100.0\n"
     ]
    }
   ],
   "source": [
    "check_na_percentage(data, 'gdp_growth_rate')"
   ]
  },
  {
   "cell_type": "markdown",
   "metadata": {},
   "source": [
    "Removing 1960 and 2019."
   ]
  },
  {
   "cell_type": "code",
   "execution_count": 14,
   "metadata": {
    "ExecuteTime": {
     "end_time": "2020-08-04T01:36:25.437457Z",
     "start_time": "2020-08-04T01:36:25.426451Z"
    }
   },
   "outputs": [],
   "source": [
    "indices_1960 = data[data.year == 1960].index.values\n",
    "indices_2019 = data[data.year == 2019].index.values\n",
    "\n",
    "data.drop(indices_2019, inplace=True)\n",
    "data.drop(indices_1960, inplace=True)"
   ]
  },
  {
   "cell_type": "code",
   "execution_count": 15,
   "metadata": {
    "ExecuteTime": {
     "end_time": "2020-08-04T01:36:26.038625Z",
     "start_time": "2020-08-04T01:36:26.032641Z"
    }
   },
   "outputs": [
    {
     "data": {
      "text/plain": [
       "(1961, 2018)"
      ]
     },
     "execution_count": 15,
     "metadata": {},
     "output_type": "execute_result"
    }
   ],
   "source": [
    "data.year.min(), data.year.max()"
   ]
  },
  {
   "cell_type": "code",
   "execution_count": 16,
   "metadata": {
    "ExecuteTime": {
     "end_time": "2020-08-04T01:36:26.416158Z",
     "start_time": "2020-08-04T01:36:26.409179Z"
    }
   },
   "outputs": [
    {
     "data": {
      "text/plain": [
       "(9428, 6)"
      ]
     },
     "execution_count": 16,
     "metadata": {},
     "output_type": "execute_result"
    }
   ],
   "source": [
    "data.shape"
   ]
  },
  {
   "cell_type": "markdown",
   "metadata": {},
   "source": [
    "# Using data 2000 onwards."
   ]
  },
  {
   "cell_type": "code",
   "execution_count": 24,
   "metadata": {
    "ExecuteTime": {
     "end_time": "2020-08-04T01:58:35.425961Z",
     "start_time": "2020-08-04T01:58:35.420969Z"
    }
   },
   "outputs": [],
   "source": [
    "data_new = data[data.year >= 2000]\n",
    "\n",
    "data_after_2000 = data_new.copy()\n"
   ]
  },
  {
   "cell_type": "code",
   "execution_count": 18,
   "metadata": {
    "ExecuteTime": {
     "end_time": "2020-08-04T01:36:31.715261Z",
     "start_time": "2020-08-04T01:36:31.711235Z"
    }
   },
   "outputs": [
    {
     "data": {
      "text/plain": [
       "(3541, 6)"
      ]
     },
     "execution_count": 18,
     "metadata": {},
     "output_type": "execute_result"
    }
   ],
   "source": [
    "data_after_2000.shape"
   ]
  },
  {
   "cell_type": "code",
   "execution_count": 19,
   "metadata": {
    "ExecuteTime": {
     "end_time": "2020-08-04T01:36:32.395588Z",
     "start_time": "2020-08-04T01:36:32.384585Z"
    }
   },
   "outputs": [
    {
     "data": {
      "text/html": [
       "<div>\n",
       "<style scoped>\n",
       "    .dataframe tbody tr th:only-of-type {\n",
       "        vertical-align: middle;\n",
       "    }\n",
       "\n",
       "    .dataframe tbody tr th {\n",
       "        vertical-align: top;\n",
       "    }\n",
       "\n",
       "    .dataframe thead th {\n",
       "        text-align: right;\n",
       "    }\n",
       "</style>\n",
       "<table border=\"1\" class=\"dataframe\">\n",
       "  <thead>\n",
       "    <tr style=\"text-align: right;\">\n",
       "      <th></th>\n",
       "      <th>country_code</th>\n",
       "      <th>country_name</th>\n",
       "      <th>year</th>\n",
       "      <th>gdp_growth_rate</th>\n",
       "      <th>government_type</th>\n",
       "      <th>gdp_per_capita</th>\n",
       "    </tr>\n",
       "  </thead>\n",
       "  <tbody>\n",
       "    <tr>\n",
       "      <th>5989</th>\n",
       "      <td>AFG</td>\n",
       "      <td>Afghanistan</td>\n",
       "      <td>2000</td>\n",
       "      <td>NaN</td>\n",
       "      <td>Dictatorship</td>\n",
       "      <td>NaN</td>\n",
       "    </tr>\n",
       "    <tr>\n",
       "      <th>5990</th>\n",
       "      <td>AGO</td>\n",
       "      <td>Angola</td>\n",
       "      <td>2000</td>\n",
       "      <td>3.054624</td>\n",
       "      <td>Dictatorship</td>\n",
       "      <td>2195.631044</td>\n",
       "    </tr>\n",
       "    <tr>\n",
       "      <th>5991</th>\n",
       "      <td>ALB</td>\n",
       "      <td>Albania</td>\n",
       "      <td>2000</td>\n",
       "      <td>6.950036</td>\n",
       "      <td>Democracy</td>\n",
       "      <td>2244.624632</td>\n",
       "    </tr>\n",
       "    <tr>\n",
       "      <th>5992</th>\n",
       "      <td>ARE</td>\n",
       "      <td>United Arab Emirates</td>\n",
       "      <td>2000</td>\n",
       "      <td>10.852704</td>\n",
       "      <td>Dictatorship</td>\n",
       "      <td>63251.522987</td>\n",
       "    </tr>\n",
       "    <tr>\n",
       "      <th>5993</th>\n",
       "      <td>ARG</td>\n",
       "      <td>Argentina</td>\n",
       "      <td>2000</td>\n",
       "      <td>-0.788999</td>\n",
       "      <td>Democracy</td>\n",
       "      <td>8224.112827</td>\n",
       "    </tr>\n",
       "  </tbody>\n",
       "</table>\n",
       "</div>"
      ],
      "text/plain": [
       "     country_code          country_name  year  gdp_growth_rate  \\\n",
       "5989          AFG           Afghanistan  2000              NaN   \n",
       "5990          AGO                Angola  2000         3.054624   \n",
       "5991          ALB               Albania  2000         6.950036   \n",
       "5992          ARE  United Arab Emirates  2000        10.852704   \n",
       "5993          ARG             Argentina  2000        -0.788999   \n",
       "\n",
       "     government_type  gdp_per_capita  \n",
       "5989    Dictatorship             NaN  \n",
       "5990    Dictatorship     2195.631044  \n",
       "5991       Democracy     2244.624632  \n",
       "5992    Dictatorship    63251.522987  \n",
       "5993       Democracy     8224.112827  "
      ]
     },
     "execution_count": 19,
     "metadata": {},
     "output_type": "execute_result"
    }
   ],
   "source": [
    "data_after_2000.head()"
   ]
  },
  {
   "cell_type": "code",
   "execution_count": 17,
   "metadata": {
    "ExecuteTime": {
     "end_time": "2020-07-19T07:11:15.794211Z",
     "start_time": "2020-07-19T07:11:15.763755Z"
    }
   },
   "outputs": [
    {
     "data": {
      "text/html": [
       "<div>\n",
       "<style scoped>\n",
       "    .dataframe tbody tr th:only-of-type {\n",
       "        vertical-align: middle;\n",
       "    }\n",
       "\n",
       "    .dataframe tbody tr th {\n",
       "        vertical-align: top;\n",
       "    }\n",
       "\n",
       "    .dataframe thead th {\n",
       "        text-align: right;\n",
       "    }\n",
       "</style>\n",
       "<table border=\"1\" class=\"dataframe\">\n",
       "  <thead>\n",
       "    <tr style=\"text-align: right;\">\n",
       "      <th></th>\n",
       "      <th>country_code</th>\n",
       "      <th>country_name</th>\n",
       "      <th>year</th>\n",
       "      <th>gdp_growth_rate</th>\n",
       "      <th>government_type</th>\n",
       "      <th>gdp_per_capita</th>\n",
       "    </tr>\n",
       "  </thead>\n",
       "  <tbody>\n",
       "    <tr>\n",
       "      <th>9525</th>\n",
       "      <td>WSM</td>\n",
       "      <td>Samoa</td>\n",
       "      <td>2018</td>\n",
       "      <td>-2.168099</td>\n",
       "      <td>Dictatorship</td>\n",
       "      <td>3748.844075</td>\n",
       "    </tr>\n",
       "    <tr>\n",
       "      <th>9526</th>\n",
       "      <td>YEM</td>\n",
       "      <td>Yemen, Rep.</td>\n",
       "      <td>2018</td>\n",
       "      <td>-2.701475</td>\n",
       "      <td>Dictatorship</td>\n",
       "      <td>632.909430</td>\n",
       "    </tr>\n",
       "    <tr>\n",
       "      <th>9527</th>\n",
       "      <td>ZAF</td>\n",
       "      <td>South Africa</td>\n",
       "      <td>2018</td>\n",
       "      <td>0.787056</td>\n",
       "      <td>Dictatorship</td>\n",
       "      <td>7433.615398</td>\n",
       "    </tr>\n",
       "    <tr>\n",
       "      <th>9528</th>\n",
       "      <td>ZMB</td>\n",
       "      <td>Zambia</td>\n",
       "      <td>2018</td>\n",
       "      <td>3.794901</td>\n",
       "      <td>Dictatorship</td>\n",
       "      <td>1678.169124</td>\n",
       "    </tr>\n",
       "    <tr>\n",
       "      <th>9529</th>\n",
       "      <td>ZWE</td>\n",
       "      <td>Zimbabwe</td>\n",
       "      <td>2018</td>\n",
       "      <td>6.159190</td>\n",
       "      <td>Dictatorship</td>\n",
       "      <td>1305.783295</td>\n",
       "    </tr>\n",
       "  </tbody>\n",
       "</table>\n",
       "</div>"
      ],
      "text/plain": [
       "     country_code  country_name  year  gdp_growth_rate government_type  \\\n",
       "9525          WSM         Samoa  2018        -2.168099    Dictatorship   \n",
       "9526          YEM   Yemen, Rep.  2018        -2.701475    Dictatorship   \n",
       "9527          ZAF  South Africa  2018         0.787056    Dictatorship   \n",
       "9528          ZMB        Zambia  2018         3.794901    Dictatorship   \n",
       "9529          ZWE      Zimbabwe  2018         6.159190    Dictatorship   \n",
       "\n",
       "      gdp_per_capita  \n",
       "9525     3748.844075  \n",
       "9526      632.909430  \n",
       "9527     7433.615398  \n",
       "9528     1678.169124  \n",
       "9529     1305.783295  "
      ]
     },
     "execution_count": 17,
     "metadata": {},
     "output_type": "execute_result"
    }
   ],
   "source": [
    "data_after_2000.tail()"
   ]
  },
  {
   "cell_type": "markdown",
   "metadata": {},
   "source": [
    "# Handling missing values."
   ]
  },
  {
   "cell_type": "markdown",
   "metadata": {},
   "source": [
    "## Handling missing values of gdp growth rate."
   ]
  },
  {
   "cell_type": "code",
   "execution_count": 25,
   "metadata": {
    "ExecuteTime": {
     "end_time": "2020-08-04T01:58:40.198215Z",
     "start_time": "2020-08-04T01:58:40.194223Z"
    }
   },
   "outputs": [],
   "source": [
    "grouped_government_type = data_after_2000.groupby(by='government_type')"
   ]
  },
  {
   "cell_type": "code",
   "execution_count": 32,
   "metadata": {
    "ExecuteTime": {
     "end_time": "2020-08-04T02:00:59.664186Z",
     "start_time": "2020-08-04T02:00:59.660206Z"
    }
   },
   "outputs": [],
   "source": [
    "def country_count(grouped_data):\n",
    "    '''\n",
    "    Prints number of unique countries in each group\n",
    "    \n",
    "    grouped_data : DataFrameGroupBy object\n",
    "    \n",
    "    returns : None\n",
    "    '''\n",
    "    unique_countries = grouped_data.country_name.unique()\n",
    "    groups = list(grouped_data.groups.keys())\n",
    "    for i in range(2):\n",
    "        print(groups[i], ' : ', unique_countries[i].size)"
   ]
  },
  {
   "cell_type": "code",
   "execution_count": 33,
   "metadata": {
    "ExecuteTime": {
     "end_time": "2020-08-04T02:01:02.621613Z",
     "start_time": "2020-08-04T02:01:02.615595Z"
    },
    "scrolled": true
   },
   "outputs": [
    {
     "name": "stdout",
     "output_type": "stream",
     "text": [
      "Democracy  :  117\n",
      "Dictatorship  :  86\n"
     ]
    }
   ],
   "source": [
    "country_count(grouped_government_type)"
   ]
  },
  {
   "cell_type": "markdown",
   "metadata": {},
   "source": [
    "About 58% of the countries after 2000 are democratic."
   ]
  },
  {
   "cell_type": "code",
   "execution_count": 40,
   "metadata": {
    "ExecuteTime": {
     "end_time": "2020-08-04T02:03:56.435219Z",
     "start_time": "2020-08-04T02:03:56.427245Z"
    }
   },
   "outputs": [
    {
     "name": "stdout",
     "output_type": "stream",
     "text": [
      "Democracy  :  6\n",
      "Dictatorship  :  9\n"
     ]
    }
   ],
   "source": [
    "# dataframe only containing those observations with missing values of gdp_growth_rate \n",
    "data_after_2000_missing = data_after_2000[data_after_2000.gdp_growth_rate.isna()] \n",
    "\n",
    "# categorizing 'data_after_2000_missing' into democracies and dictatorships\n",
    "grouped_government_type_missing = data_after_2000_missing.groupby('government_type')\n",
    "\n",
    "# number of countries with missing values for gdp_growth_rate\n",
    "country_count(grouped_government_type_missing)"
   ]
  },
  {
   "cell_type": "code",
   "execution_count": 42,
   "metadata": {
    "ExecuteTime": {
     "end_time": "2020-08-04T02:05:49.399527Z",
     "start_time": "2020-08-04T02:05:49.383877Z"
    }
   },
   "outputs": [
    {
     "data": {
      "text/plain": [
       "country_name\n",
       "Afghanistan                   3\n",
       "Djibouti                     14\n",
       "Eritrea                       7\n",
       "Iran, Islamic Rep.            1\n",
       "Korea, Dem. People’s Rep.    19\n",
       "Liberia                       1\n",
       "Liechtenstein                 9\n",
       "Nauru                         8\n",
       "Palau                         1\n",
       "Qatar                         1\n",
       "San Marino                    1\n",
       "Sao Tome and Principe         2\n",
       "Somalia                      19\n",
       "Syrian Arab Republic         11\n",
       "Venezuela, RB                 4\n",
       "Name: country_name, dtype: int64"
      ]
     },
     "execution_count": 42,
     "metadata": {},
     "output_type": "execute_result"
    }
   ],
   "source": [
    "# grouping the dataframe 'data_after_2000_missing' by country_name\n",
    "grouped_country_missing = data_after_2000_missing.groupby('country_name')\n",
    "\n",
    "# countries and respective number of years for which the values for gdp_growth_rate is missing.\n",
    "grouped_country_missing.country_name.count()"
   ]
  },
  {
   "cell_type": "markdown",
   "metadata": {},
   "source": [
    "I have decided to remove the rows with missing gdp_growth_rate. Here is why :-\n",
    "- Gdp growth rates can change quickly year to year. Filling the missing values with average or any other value does not feel right.\n",
    "- Moreover, one possible reason for missing values is that the economic conditions might not be very good during those years. So imputation is not a good idea.\n",
    "- Most countries with missing values have missing values for cinssecutive years. This makes it more difficult to impute the values."
   ]
  },
  {
   "cell_type": "code",
   "execution_count": 43,
   "metadata": {
    "ExecuteTime": {
     "end_time": "2020-08-04T02:11:39.184394Z",
     "start_time": "2020-08-04T02:11:39.179375Z"
    }
   },
   "outputs": [
    {
     "data": {
      "text/plain": [
       "101"
      ]
     },
     "execution_count": 43,
     "metadata": {},
     "output_type": "execute_result"
    }
   ],
   "source": [
    "data_after_2000.gdp_growth_rate.isna().sum()"
   ]
  },
  {
   "cell_type": "code",
   "execution_count": 48,
   "metadata": {
    "ExecuteTime": {
     "end_time": "2020-08-04T02:12:43.516419Z",
     "start_time": "2020-08-04T02:12:43.509406Z"
    }
   },
   "outputs": [],
   "source": [
    "data_after_2000.dropna(subset=['gdp_growth_rate'], inplace=True)"
   ]
  },
  {
   "cell_type": "code",
   "execution_count": 49,
   "metadata": {
    "ExecuteTime": {
     "end_time": "2020-08-04T02:12:58.644105Z",
     "start_time": "2020-08-04T02:12:58.638089Z"
    }
   },
   "outputs": [
    {
     "data": {
      "text/plain": [
       "0"
      ]
     },
     "execution_count": 49,
     "metadata": {},
     "output_type": "execute_result"
    }
   ],
   "source": [
    "data_after_2000.gdp_growth_rate.isna().sum()"
   ]
  },
  {
   "cell_type": "markdown",
   "metadata": {},
   "source": [
    "## Handling missing values of gdp per capita"
   ]
  },
  {
   "cell_type": "code",
   "execution_count": 62,
   "metadata": {
    "ExecuteTime": {
     "end_time": "2020-07-19T09:54:11.294896Z",
     "start_time": "2020-07-19T09:54:11.264793Z"
    }
   },
   "outputs": [
    {
     "data": {
      "text/html": [
       "<div>\n",
       "<style scoped>\n",
       "    .dataframe tbody tr th:only-of-type {\n",
       "        vertical-align: middle;\n",
       "    }\n",
       "\n",
       "    .dataframe tbody tr th {\n",
       "        vertical-align: top;\n",
       "    }\n",
       "\n",
       "    .dataframe thead th {\n",
       "        text-align: right;\n",
       "    }\n",
       "</style>\n",
       "<table border=\"1\" class=\"dataframe\">\n",
       "  <thead>\n",
       "    <tr style=\"text-align: right;\">\n",
       "      <th></th>\n",
       "      <th>country_code</th>\n",
       "      <th>country_name</th>\n",
       "      <th>year</th>\n",
       "      <th>gdp_growth_rate</th>\n",
       "      <th>government_type</th>\n",
       "      <th>gdp_per_capita</th>\n",
       "    </tr>\n",
       "  </thead>\n",
       "  <tbody>\n",
       "    <tr>\n",
       "      <th>6039</th>\n",
       "      <td>ERI</td>\n",
       "      <td>Eritrea</td>\n",
       "      <td>2000</td>\n",
       "      <td>-3.141986</td>\n",
       "      <td>Dictatorship</td>\n",
       "      <td>635.177960</td>\n",
       "    </tr>\n",
       "    <tr>\n",
       "      <th>6224</th>\n",
       "      <td>ERI</td>\n",
       "      <td>Eritrea</td>\n",
       "      <td>2001</td>\n",
       "      <td>8.755435</td>\n",
       "      <td>Dictatorship</td>\n",
       "      <td>666.848297</td>\n",
       "    </tr>\n",
       "    <tr>\n",
       "      <th>6409</th>\n",
       "      <td>ERI</td>\n",
       "      <td>Eritrea</td>\n",
       "      <td>2002</td>\n",
       "      <td>3.005429</td>\n",
       "      <td>Dictatorship</td>\n",
       "      <td>657.450441</td>\n",
       "    </tr>\n",
       "    <tr>\n",
       "      <th>6594</th>\n",
       "      <td>ERI</td>\n",
       "      <td>Eritrea</td>\n",
       "      <td>2003</td>\n",
       "      <td>-2.655516</td>\n",
       "      <td>Dictatorship</td>\n",
       "      <td>610.485625</td>\n",
       "    </tr>\n",
       "    <tr>\n",
       "      <th>6779</th>\n",
       "      <td>ERI</td>\n",
       "      <td>Eritrea</td>\n",
       "      <td>2004</td>\n",
       "      <td>1.451736</td>\n",
       "      <td>Dictatorship</td>\n",
       "      <td>592.288525</td>\n",
       "    </tr>\n",
       "    <tr>\n",
       "      <th>6964</th>\n",
       "      <td>ERI</td>\n",
       "      <td>Eritrea</td>\n",
       "      <td>2005</td>\n",
       "      <td>2.574450</td>\n",
       "      <td>Dictatorship</td>\n",
       "      <td>584.570025</td>\n",
       "    </tr>\n",
       "    <tr>\n",
       "      <th>7149</th>\n",
       "      <td>ERI</td>\n",
       "      <td>Eritrea</td>\n",
       "      <td>2006</td>\n",
       "      <td>-0.969217</td>\n",
       "      <td>Dictatorship</td>\n",
       "      <td>560.743668</td>\n",
       "    </tr>\n",
       "    <tr>\n",
       "      <th>7336</th>\n",
       "      <td>ERI</td>\n",
       "      <td>Eritrea</td>\n",
       "      <td>2007</td>\n",
       "      <td>1.426822</td>\n",
       "      <td>Dictatorship</td>\n",
       "      <td>553.877207</td>\n",
       "    </tr>\n",
       "    <tr>\n",
       "      <th>7523</th>\n",
       "      <td>ERI</td>\n",
       "      <td>Eritrea</td>\n",
       "      <td>2008</td>\n",
       "      <td>-9.783030</td>\n",
       "      <td>Dictatorship</td>\n",
       "      <td>488.883713</td>\n",
       "    </tr>\n",
       "    <tr>\n",
       "      <th>7710</th>\n",
       "      <td>ERI</td>\n",
       "      <td>Eritrea</td>\n",
       "      <td>2009</td>\n",
       "      <td>3.876502</td>\n",
       "      <td>Dictatorship</td>\n",
       "      <td>498.534349</td>\n",
       "    </tr>\n",
       "    <tr>\n",
       "      <th>7897</th>\n",
       "      <td>ERI</td>\n",
       "      <td>Eritrea</td>\n",
       "      <td>2010</td>\n",
       "      <td>2.194191</td>\n",
       "      <td>Dictatorship</td>\n",
       "      <td>501.355633</td>\n",
       "    </tr>\n",
       "    <tr>\n",
       "      <th>8084</th>\n",
       "      <td>ERI</td>\n",
       "      <td>Eritrea</td>\n",
       "      <td>2011</td>\n",
       "      <td>8.679800</td>\n",
       "      <td>Dictatorship</td>\n",
       "      <td>537.491368</td>\n",
       "    </tr>\n",
       "    <tr>\n",
       "      <th>8271</th>\n",
       "      <td>ERI</td>\n",
       "      <td>Eritrea</td>\n",
       "      <td>2012</td>\n",
       "      <td>0.000000</td>\n",
       "      <td>Dictatorship</td>\n",
       "      <td>NaN</td>\n",
       "    </tr>\n",
       "    <tr>\n",
       "      <th>8458</th>\n",
       "      <td>ERI</td>\n",
       "      <td>Eritrea</td>\n",
       "      <td>2013</td>\n",
       "      <td>0.000000</td>\n",
       "      <td>Dictatorship</td>\n",
       "      <td>NaN</td>\n",
       "    </tr>\n",
       "    <tr>\n",
       "      <th>8645</th>\n",
       "      <td>ERI</td>\n",
       "      <td>Eritrea</td>\n",
       "      <td>2014</td>\n",
       "      <td>0.000000</td>\n",
       "      <td>Dictatorship</td>\n",
       "      <td>NaN</td>\n",
       "    </tr>\n",
       "    <tr>\n",
       "      <th>8832</th>\n",
       "      <td>ERI</td>\n",
       "      <td>Eritrea</td>\n",
       "      <td>2015</td>\n",
       "      <td>0.000000</td>\n",
       "      <td>Dictatorship</td>\n",
       "      <td>NaN</td>\n",
       "    </tr>\n",
       "    <tr>\n",
       "      <th>9019</th>\n",
       "      <td>ERI</td>\n",
       "      <td>Eritrea</td>\n",
       "      <td>2016</td>\n",
       "      <td>0.000000</td>\n",
       "      <td>Dictatorship</td>\n",
       "      <td>NaN</td>\n",
       "    </tr>\n",
       "    <tr>\n",
       "      <th>9206</th>\n",
       "      <td>ERI</td>\n",
       "      <td>Eritrea</td>\n",
       "      <td>2017</td>\n",
       "      <td>0.000000</td>\n",
       "      <td>Dictatorship</td>\n",
       "      <td>NaN</td>\n",
       "    </tr>\n",
       "    <tr>\n",
       "      <th>9393</th>\n",
       "      <td>ERI</td>\n",
       "      <td>Eritrea</td>\n",
       "      <td>2018</td>\n",
       "      <td>0.000000</td>\n",
       "      <td>Dictatorship</td>\n",
       "      <td>NaN</td>\n",
       "    </tr>\n",
       "  </tbody>\n",
       "</table>\n",
       "</div>"
      ],
      "text/plain": [
       "     country_code country_name  year  gdp_growth_rate government_type  \\\n",
       "6039          ERI      Eritrea  2000        -3.141986    Dictatorship   \n",
       "6224          ERI      Eritrea  2001         8.755435    Dictatorship   \n",
       "6409          ERI      Eritrea  2002         3.005429    Dictatorship   \n",
       "6594          ERI      Eritrea  2003        -2.655516    Dictatorship   \n",
       "6779          ERI      Eritrea  2004         1.451736    Dictatorship   \n",
       "6964          ERI      Eritrea  2005         2.574450    Dictatorship   \n",
       "7149          ERI      Eritrea  2006        -0.969217    Dictatorship   \n",
       "7336          ERI      Eritrea  2007         1.426822    Dictatorship   \n",
       "7523          ERI      Eritrea  2008        -9.783030    Dictatorship   \n",
       "7710          ERI      Eritrea  2009         3.876502    Dictatorship   \n",
       "7897          ERI      Eritrea  2010         2.194191    Dictatorship   \n",
       "8084          ERI      Eritrea  2011         8.679800    Dictatorship   \n",
       "8271          ERI      Eritrea  2012         0.000000    Dictatorship   \n",
       "8458          ERI      Eritrea  2013         0.000000    Dictatorship   \n",
       "8645          ERI      Eritrea  2014         0.000000    Dictatorship   \n",
       "8832          ERI      Eritrea  2015         0.000000    Dictatorship   \n",
       "9019          ERI      Eritrea  2016         0.000000    Dictatorship   \n",
       "9206          ERI      Eritrea  2017         0.000000    Dictatorship   \n",
       "9393          ERI      Eritrea  2018         0.000000    Dictatorship   \n",
       "\n",
       "      gdp_per_capita  \n",
       "6039      635.177960  \n",
       "6224      666.848297  \n",
       "6409      657.450441  \n",
       "6594      610.485625  \n",
       "6779      592.288525  \n",
       "6964      584.570025  \n",
       "7149      560.743668  \n",
       "7336      553.877207  \n",
       "7523      488.883713  \n",
       "7710      498.534349  \n",
       "7897      501.355633  \n",
       "8084      537.491368  \n",
       "8271             NaN  \n",
       "8458             NaN  \n",
       "8645             NaN  \n",
       "8832             NaN  \n",
       "9019             NaN  \n",
       "9206             NaN  \n",
       "9393             NaN  "
      ]
     },
     "execution_count": 62,
     "metadata": {},
     "output_type": "execute_result"
    }
   ],
   "source": [
    "data_after_2000_missing_included[data_after_2000_missing_included.country_name == 'Eritrea']"
   ]
  },
  {
   "cell_type": "code",
   "execution_count": 86,
   "metadata": {
    "ExecuteTime": {
     "end_time": "2020-07-13T09:27:17.155318Z",
     "start_time": "2020-07-13T09:27:17.121998Z"
    }
   },
   "outputs": [
    {
     "data": {
      "text/html": [
       "<div>\n",
       "<style scoped>\n",
       "    .dataframe tbody tr th:only-of-type {\n",
       "        vertical-align: middle;\n",
       "    }\n",
       "\n",
       "    .dataframe tbody tr th {\n",
       "        vertical-align: top;\n",
       "    }\n",
       "\n",
       "    .dataframe thead th {\n",
       "        text-align: right;\n",
       "    }\n",
       "</style>\n",
       "<table border=\"1\" class=\"dataframe\">\n",
       "  <thead>\n",
       "    <tr style=\"text-align: right;\">\n",
       "      <th></th>\n",
       "      <th>country_code</th>\n",
       "      <th>country_name</th>\n",
       "      <th>year</th>\n",
       "      <th>gdp_growth_rate</th>\n",
       "      <th>government_type</th>\n",
       "      <th>gdp_per_capita</th>\n",
       "    </tr>\n",
       "  </thead>\n",
       "  <tbody>\n",
       "    <tr>\n",
       "      <th>6087</th>\n",
       "      <td>LIE</td>\n",
       "      <td>Liechtenstein</td>\n",
       "      <td>2000</td>\n",
       "      <td>3.220191</td>\n",
       "      <td>Democracy</td>\n",
       "      <td>NaN</td>\n",
       "    </tr>\n",
       "    <tr>\n",
       "      <th>6148</th>\n",
       "      <td>SYR</td>\n",
       "      <td>Syrian Arab Republic</td>\n",
       "      <td>2000</td>\n",
       "      <td>2.742857</td>\n",
       "      <td>Dictatorship</td>\n",
       "      <td>NaN</td>\n",
       "    </tr>\n",
       "    <tr>\n",
       "      <th>6272</th>\n",
       "      <td>LIE</td>\n",
       "      <td>Liechtenstein</td>\n",
       "      <td>2001</td>\n",
       "      <td>-0.733091</td>\n",
       "      <td>Democracy</td>\n",
       "      <td>NaN</td>\n",
       "    </tr>\n",
       "    <tr>\n",
       "      <th>6333</th>\n",
       "      <td>SYR</td>\n",
       "      <td>Syrian Arab Republic</td>\n",
       "      <td>2001</td>\n",
       "      <td>5.200943</td>\n",
       "      <td>Dictatorship</td>\n",
       "      <td>NaN</td>\n",
       "    </tr>\n",
       "    <tr>\n",
       "      <th>6457</th>\n",
       "      <td>LIE</td>\n",
       "      <td>Liechtenstein</td>\n",
       "      <td>2002</td>\n",
       "      <td>-0.993919</td>\n",
       "      <td>Democracy</td>\n",
       "      <td>NaN</td>\n",
       "    </tr>\n",
       "    <tr>\n",
       "      <th>6518</th>\n",
       "      <td>SYR</td>\n",
       "      <td>Syrian Arab Republic</td>\n",
       "      <td>2002</td>\n",
       "      <td>5.900000</td>\n",
       "      <td>Dictatorship</td>\n",
       "      <td>NaN</td>\n",
       "    </tr>\n",
       "    <tr>\n",
       "      <th>6642</th>\n",
       "      <td>LIE</td>\n",
       "      <td>Liechtenstein</td>\n",
       "      <td>2003</td>\n",
       "      <td>-1.937566</td>\n",
       "      <td>Democracy</td>\n",
       "      <td>NaN</td>\n",
       "    </tr>\n",
       "    <tr>\n",
       "      <th>6703</th>\n",
       "      <td>SYR</td>\n",
       "      <td>Syrian Arab Republic</td>\n",
       "      <td>2003</td>\n",
       "      <td>0.600000</td>\n",
       "      <td>Dictatorship</td>\n",
       "      <td>NaN</td>\n",
       "    </tr>\n",
       "    <tr>\n",
       "      <th>6827</th>\n",
       "      <td>LIE</td>\n",
       "      <td>Liechtenstein</td>\n",
       "      <td>2004</td>\n",
       "      <td>3.039174</td>\n",
       "      <td>Democracy</td>\n",
       "      <td>NaN</td>\n",
       "    </tr>\n",
       "    <tr>\n",
       "      <th>6888</th>\n",
       "      <td>SYR</td>\n",
       "      <td>Syrian Arab Republic</td>\n",
       "      <td>2004</td>\n",
       "      <td>6.900000</td>\n",
       "      <td>Dictatorship</td>\n",
       "      <td>NaN</td>\n",
       "    </tr>\n",
       "    <tr>\n",
       "      <th>7012</th>\n",
       "      <td>LIE</td>\n",
       "      <td>Liechtenstein</td>\n",
       "      <td>2005</td>\n",
       "      <td>4.828075</td>\n",
       "      <td>Democracy</td>\n",
       "      <td>NaN</td>\n",
       "    </tr>\n",
       "    <tr>\n",
       "      <th>7073</th>\n",
       "      <td>SYR</td>\n",
       "      <td>Syrian Arab Republic</td>\n",
       "      <td>2005</td>\n",
       "      <td>6.200000</td>\n",
       "      <td>Dictatorship</td>\n",
       "      <td>NaN</td>\n",
       "    </tr>\n",
       "    <tr>\n",
       "      <th>7197</th>\n",
       "      <td>LIE</td>\n",
       "      <td>Liechtenstein</td>\n",
       "      <td>2006</td>\n",
       "      <td>8.644970</td>\n",
       "      <td>Democracy</td>\n",
       "      <td>NaN</td>\n",
       "    </tr>\n",
       "    <tr>\n",
       "      <th>7260</th>\n",
       "      <td>SYR</td>\n",
       "      <td>Syrian Arab Republic</td>\n",
       "      <td>2006</td>\n",
       "      <td>5.000000</td>\n",
       "      <td>Dictatorship</td>\n",
       "      <td>NaN</td>\n",
       "    </tr>\n",
       "    <tr>\n",
       "      <th>7384</th>\n",
       "      <td>LIE</td>\n",
       "      <td>Liechtenstein</td>\n",
       "      <td>2007</td>\n",
       "      <td>3.325963</td>\n",
       "      <td>Democracy</td>\n",
       "      <td>NaN</td>\n",
       "    </tr>\n",
       "    <tr>\n",
       "      <th>7447</th>\n",
       "      <td>SYR</td>\n",
       "      <td>Syrian Arab Republic</td>\n",
       "      <td>2007</td>\n",
       "      <td>5.700000</td>\n",
       "      <td>Dictatorship</td>\n",
       "      <td>NaN</td>\n",
       "    </tr>\n",
       "    <tr>\n",
       "      <th>7571</th>\n",
       "      <td>LIE</td>\n",
       "      <td>Liechtenstein</td>\n",
       "      <td>2008</td>\n",
       "      <td>1.798088</td>\n",
       "      <td>Democracy</td>\n",
       "      <td>NaN</td>\n",
       "    </tr>\n",
       "    <tr>\n",
       "      <th>7758</th>\n",
       "      <td>LIE</td>\n",
       "      <td>Liechtenstein</td>\n",
       "      <td>2009</td>\n",
       "      <td>-1.157482</td>\n",
       "      <td>Democracy</td>\n",
       "      <td>NaN</td>\n",
       "    </tr>\n",
       "    <tr>\n",
       "      <th>8638</th>\n",
       "      <td>DJI</td>\n",
       "      <td>Djibouti</td>\n",
       "      <td>2014</td>\n",
       "      <td>7.061543</td>\n",
       "      <td>Dictatorship</td>\n",
       "      <td>NaN</td>\n",
       "    </tr>\n",
       "    <tr>\n",
       "      <th>8825</th>\n",
       "      <td>DJI</td>\n",
       "      <td>Djibouti</td>\n",
       "      <td>2015</td>\n",
       "      <td>7.675070</td>\n",
       "      <td>Dictatorship</td>\n",
       "      <td>NaN</td>\n",
       "    </tr>\n",
       "    <tr>\n",
       "      <th>9012</th>\n",
       "      <td>DJI</td>\n",
       "      <td>Djibouti</td>\n",
       "      <td>2016</td>\n",
       "      <td>6.918585</td>\n",
       "      <td>Dictatorship</td>\n",
       "      <td>NaN</td>\n",
       "    </tr>\n",
       "    <tr>\n",
       "      <th>9199</th>\n",
       "      <td>DJI</td>\n",
       "      <td>Djibouti</td>\n",
       "      <td>2017</td>\n",
       "      <td>5.076900</td>\n",
       "      <td>Dictatorship</td>\n",
       "      <td>NaN</td>\n",
       "    </tr>\n",
       "    <tr>\n",
       "      <th>9386</th>\n",
       "      <td>DJI</td>\n",
       "      <td>Djibouti</td>\n",
       "      <td>2018</td>\n",
       "      <td>5.460191</td>\n",
       "      <td>Dictatorship</td>\n",
       "      <td>NaN</td>\n",
       "    </tr>\n",
       "  </tbody>\n",
       "</table>\n",
       "</div>"
      ],
      "text/plain": [
       "     country_code          country_name  year  gdp_growth_rate  \\\n",
       "6087          LIE         Liechtenstein  2000         3.220191   \n",
       "6148          SYR  Syrian Arab Republic  2000         2.742857   \n",
       "6272          LIE         Liechtenstein  2001        -0.733091   \n",
       "6333          SYR  Syrian Arab Republic  2001         5.200943   \n",
       "6457          LIE         Liechtenstein  2002        -0.993919   \n",
       "6518          SYR  Syrian Arab Republic  2002         5.900000   \n",
       "6642          LIE         Liechtenstein  2003        -1.937566   \n",
       "6703          SYR  Syrian Arab Republic  2003         0.600000   \n",
       "6827          LIE         Liechtenstein  2004         3.039174   \n",
       "6888          SYR  Syrian Arab Republic  2004         6.900000   \n",
       "7012          LIE         Liechtenstein  2005         4.828075   \n",
       "7073          SYR  Syrian Arab Republic  2005         6.200000   \n",
       "7197          LIE         Liechtenstein  2006         8.644970   \n",
       "7260          SYR  Syrian Arab Republic  2006         5.000000   \n",
       "7384          LIE         Liechtenstein  2007         3.325963   \n",
       "7447          SYR  Syrian Arab Republic  2007         5.700000   \n",
       "7571          LIE         Liechtenstein  2008         1.798088   \n",
       "7758          LIE         Liechtenstein  2009        -1.157482   \n",
       "8638          DJI              Djibouti  2014         7.061543   \n",
       "8825          DJI              Djibouti  2015         7.675070   \n",
       "9012          DJI              Djibouti  2016         6.918585   \n",
       "9199          DJI              Djibouti  2017         5.076900   \n",
       "9386          DJI              Djibouti  2018         5.460191   \n",
       "\n",
       "     government_type  gdp_per_capita  \n",
       "6087       Democracy             NaN  \n",
       "6148    Dictatorship             NaN  \n",
       "6272       Democracy             NaN  \n",
       "6333    Dictatorship             NaN  \n",
       "6457       Democracy             NaN  \n",
       "6518    Dictatorship             NaN  \n",
       "6642       Democracy             NaN  \n",
       "6703    Dictatorship             NaN  \n",
       "6827       Democracy             NaN  \n",
       "6888    Dictatorship             NaN  \n",
       "7012       Democracy             NaN  \n",
       "7073    Dictatorship             NaN  \n",
       "7197       Democracy             NaN  \n",
       "7260    Dictatorship             NaN  \n",
       "7384       Democracy             NaN  \n",
       "7447    Dictatorship             NaN  \n",
       "7571       Democracy             NaN  \n",
       "7758       Democracy             NaN  \n",
       "8638    Dictatorship             NaN  \n",
       "8825    Dictatorship             NaN  \n",
       "9012    Dictatorship             NaN  \n",
       "9199    Dictatorship             NaN  \n",
       "9386    Dictatorship             NaN  "
      ]
     },
     "execution_count": 86,
     "metadata": {},
     "output_type": "execute_result"
    }
   ],
   "source": [
    "data_after_2000[data_after_2000.gdp_per_capita.isna()]"
   ]
  },
  {
   "cell_type": "markdown",
   "metadata": {},
   "source": [
    "I will replace the missing value for LIE with 141200.38, SYR with 0. DJI with 1300."
   ]
  },
  {
   "cell_type": "markdown",
   "metadata": {},
   "source": [
    "I do so for the following reasons:-\n",
    "- I only need to classify the countries according to income levels. I do not need exact values.\n",
    "- It is not very likely that a country's status changes from one income level to another, quickly.\n",
    "- There are only three countries with missing values for gdp_per_capita."
   ]
  },
  {
   "cell_type": "code",
   "execution_count": 31,
   "metadata": {
    "ExecuteTime": {
     "end_time": "2020-08-01T15:48:19.508103Z",
     "start_time": "2020-08-01T15:48:19.503160Z"
    }
   },
   "outputs": [],
   "source": [
    "def fill_missing(dataframe, column_name, codes, new_values):\n",
    "    '''\n",
    "    Fills missing values in a column with the given values\n",
    "    \n",
    "    dataframe : dataframe \n",
    "    column_name : name of the column for which values are to filled\n",
    "    codes : codes of the countries for which the values are to replaced\n",
    "    new_values : new values to replace old ones\n",
    "    \n",
    "    returns : None\n",
    "    '''\n",
    "    for i in range(len(codes)):\n",
    "        dataframe.loc[(dataframe.country_code == codes[i]) &\n",
    "                 (dataframe[column_name].isna()), column_name] = new_values[i]"
   ]
  },
  {
   "cell_type": "code",
   "execution_count": 32,
   "metadata": {
    "ExecuteTime": {
     "end_time": "2020-08-01T15:48:20.087795Z",
     "start_time": "2020-08-01T15:48:20.072141Z"
    }
   },
   "outputs": [],
   "source": [
    "values = [141200.38, 0, 1300]\n",
    "countries = ['LIE', 'DJI', 'SYR']"
   ]
  },
  {
   "cell_type": "code",
   "execution_count": 33,
   "metadata": {
    "ExecuteTime": {
     "end_time": "2020-08-01T15:48:20.506054Z",
     "start_time": "2020-08-01T15:48:20.492058Z"
    }
   },
   "outputs": [],
   "source": [
    "fill_missing(data_after_2000, 'gdp_per_capita', countries, values)"
   ]
  },
  {
   "cell_type": "code",
   "execution_count": 34,
   "metadata": {
    "ExecuteTime": {
     "end_time": "2020-08-01T15:48:22.130723Z",
     "start_time": "2020-08-01T15:48:22.125773Z"
    }
   },
   "outputs": [
    {
     "data": {
      "text/plain": [
       "0"
      ]
     },
     "execution_count": 34,
     "metadata": {},
     "output_type": "execute_result"
    }
   ],
   "source": [
    "data_after_2000.gdp_per_capita.isna().sum()"
   ]
  },
  {
   "cell_type": "markdown",
   "metadata": {},
   "source": [
    "# Saving as csv"
   ]
  },
  {
   "cell_type": "code",
   "execution_count": 68,
   "metadata": {
    "ExecuteTime": {
     "end_time": "2020-07-19T10:18:26.580160Z",
     "start_time": "2020-07-19T10:18:26.526053Z"
    }
   },
   "outputs": [],
   "source": [
    "data_after_2000.to_csv('../Cleaned_data/data_after_2000.csv')"
   ]
  },
  {
   "cell_type": "code",
   "execution_count": 67,
   "metadata": {
    "ExecuteTime": {
     "end_time": "2020-07-19T10:18:24.008675Z",
     "start_time": "2020-07-19T10:18:23.577969Z"
    }
   },
   "outputs": [],
   "source": [
    "data_after_2000_missing_included.to_csv('../Cleaned_data/data_after_2000_including_missing.csv')"
   ]
  },
  {
   "cell_type": "code",
   "execution_count": null,
   "metadata": {},
   "outputs": [],
   "source": []
  }
 ],
 "metadata": {
  "kernelspec": {
   "display_name": "Python 3",
   "language": "python",
   "name": "python3"
  },
  "language_info": {
   "codemirror_mode": {
    "name": "ipython",
    "version": 3
   },
   "file_extension": ".py",
   "mimetype": "text/x-python",
   "name": "python",
   "nbconvert_exporter": "python",
   "pygments_lexer": "ipython3",
   "version": "3.8.2"
  },
  "toc": {
   "base_numbering": 1,
   "nav_menu": {},
   "number_sections": true,
   "sideBar": true,
   "skip_h1_title": false,
   "title_cell": "Table of Contents",
   "title_sidebar": "Contents",
   "toc_cell": false,
   "toc_position": {},
   "toc_section_display": true,
   "toc_window_display": false
  },
  "varInspector": {
   "cols": {
    "lenName": 16,
    "lenType": 16,
    "lenVar": 40
   },
   "kernels_config": {
    "python": {
     "delete_cmd_postfix": "",
     "delete_cmd_prefix": "del ",
     "library": "var_list.py",
     "varRefreshCmd": "print(var_dic_list())"
    },
    "r": {
     "delete_cmd_postfix": ") ",
     "delete_cmd_prefix": "rm(",
     "library": "var_list.r",
     "varRefreshCmd": "cat(var_dic_list()) "
    }
   },
   "types_to_exclude": [
    "module",
    "function",
    "builtin_function_or_method",
    "instance",
    "_Feature"
   ],
   "window_display": false
  }
 },
 "nbformat": 4,
 "nbformat_minor": 4
}
